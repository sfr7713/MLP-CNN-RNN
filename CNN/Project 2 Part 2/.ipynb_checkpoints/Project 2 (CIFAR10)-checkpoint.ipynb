{
 "cells": [
  {
   "cell_type": "markdown",
   "metadata": {},
   "source": [
    "# Project 3: Image classification using CNN"
   ]
  },
  {
   "cell_type": "code",
   "execution_count": 1,
   "metadata": {},
   "outputs": [],
   "source": [
    "%matplotlib inline\n",
    "%load_ext autoreload\n",
    "%autoreload 2"
   ]
  },
  {
   "cell_type": "code",
   "execution_count": 2,
   "metadata": {},
   "outputs": [
    {
     "name": "stderr",
     "output_type": "stream",
     "text": [
      "C:\\Users\\furon\\Anaconda3\\lib\\site-packages\\h5py\\__init__.py:34: FutureWarning: Conversion of the second argument of issubdtype from `float` to `np.floating` is deprecated. In future, it will be treated as `np.float64 == np.dtype(float).type`.\n",
      "  from ._conv import register_converters as _register_converters\n",
      "Using TensorFlow backend.\n"
     ]
    }
   ],
   "source": [
    "from keras.datasets import cifar10\n",
    "from keras.utils import to_categorical\n",
    "from sklearn.model_selection import train_test_split\n",
    "import numpy as np"
   ]
  },
  {
   "cell_type": "code",
   "execution_count": 3,
   "metadata": {},
   "outputs": [],
   "source": [
    "(x, y), _ = cifar10.load_data()\n",
    "x = x.astype(\"float32\") / 255  # normalize to 0-1\n",
    "# x = x.reshape(-1, x.shape[1], x.shape[2], 1).astype(\"float32\") / 255"
   ]
  },
  {
   "cell_type": "code",
   "execution_count": 4,
   "metadata": {},
   "outputs": [],
   "source": [
    "x_train, x_dev, y_train, y_dev = train_test_split(\n",
    "    x, y, test_size=0.05, random_state=42)"
   ]
  },
  {
   "cell_type": "code",
   "execution_count": 5,
   "metadata": {},
   "outputs": [],
   "source": [
    "y_train_vectorized = to_categorical(y_train)\n",
    "y_dev_vectorized = to_categorical(y_dev)"
   ]
  },
  {
   "cell_type": "code",
   "execution_count": 6,
   "metadata": {},
   "outputs": [],
   "source": [
    "from exercise_2 import build_convolutional_model"
   ]
  },
  {
   "cell_type": "code",
   "execution_count": 9,
   "metadata": {
    "scrolled": true
   },
   "outputs": [
    {
     "name": "stdout",
     "output_type": "stream",
     "text": [
      "Train on 47500 samples, validate on 2500 samples\n",
      "Epoch 1/10\n",
      "47500/47500 [==============================] - 798s 17ms/step - loss: 1.5386 - acc: 0.4369 - val_loss: 2.4669 - val_acc: 0.3540\n",
      "Epoch 2/10\n",
      "47500/47500 [==============================] - 792s 17ms/step - loss: 1.1242 - acc: 0.5956 - val_loss: 1.3068 - val_acc: 0.5784\n",
      "Epoch 3/10\n",
      "47500/47500 [==============================] - 775s 16ms/step - loss: 0.9534 - acc: 0.6625 - val_loss: 1.2059 - val_acc: 0.6036\n",
      "Epoch 4/10\n",
      "47500/47500 [==============================] - 784s 16ms/step - loss: 0.8493 - acc: 0.7010 - val_loss: 0.8941 - val_acc: 0.6900\n",
      "Epoch 5/10\n",
      "47500/47500 [==============================] - 767s 16ms/step - loss: 0.7831 - acc: 0.7238 - val_loss: 0.7276 - val_acc: 0.7508\n",
      "Epoch 6/10\n",
      "47500/47500 [==============================] - 812s 17ms/step - loss: 0.7343 - acc: 0.7406 - val_loss: 0.8516 - val_acc: 0.7060\n",
      "Epoch 7/10\n",
      "47500/47500 [==============================] - 810s 17ms/step - loss: 0.6953 - acc: 0.7553 - val_loss: 0.7117 - val_acc: 0.7572\n",
      "Epoch 8/10\n",
      "47500/47500 [==============================] - 669s 14ms/step - loss: 0.6647 - acc: 0.7658 - val_loss: 0.6909 - val_acc: 0.7584\n",
      "Epoch 9/10\n",
      "47500/47500 [==============================] - 597s 13ms/step - loss: 0.6378 - acc: 0.7778 - val_loss: 0.6712 - val_acc: 0.7716\n",
      "Epoch 10/10\n",
      "47500/47500 [==============================] - 596s 13ms/step - loss: 0.6115 - acc: 0.7841 - val_loss: 0.7672 - val_acc: 0.7448\n"
     ]
    },
    {
     "data": {
      "text/plain": [
       "<keras.callbacks.History at 0x28600c754e0>"
      ]
     },
     "execution_count": 9,
     "metadata": {},
     "output_type": "execute_result"
    }
   ],
   "source": [
    "conv_model = build_convolutional_model(x_train.shape, len(np.unique(y_train, axis = 0)))\n",
    "conv_model.fit(x_train, y_train_vectorized,\n",
    "                validation_data=(x_dev, y_dev_vectorized),\n",
    "                batch_size=128, epochs=10, \n",
    "                verbose=1)"
   ]
  },
  {
   "cell_type": "code",
   "execution_count": 11,
   "metadata": {},
   "outputs": [
    {
     "name": "stdout",
     "output_type": "stream",
     "text": [
      "2500/2500 [==============================] - 6s 2ms/step\n",
      "Dev loss: 0.5928\n",
      "Dev acc: 79.48%\n"
     ]
    }
   ],
   "source": [
    "final_dev_accuracy = conv_model.evaluate(x_dev, y_dev_vectorized,\n",
    "                batch_size=128, verbose=1)\n",
    "print(\"Dev loss: {:.4f}\\nDev acc: {:.2f}%\".format(final_dev_accuracy[0],\n",
    "                                         100*final_dev_accuracy[1]))"
   ]
  },
  {
   "cell_type": "code",
   "execution_count": 13,
   "metadata": {},
   "outputs": [],
   "source": [
    "_, (test, _) = cifar10.load_data()\n",
    "test = test.astype(\"float32\") / 255  # normalize to 0-1\n",
    "predicted = conv_model.predict_classes(test)"
   ]
  },
  {
   "cell_type": "code",
   "execution_count": 14,
   "metadata": {},
   "outputs": [
    {
     "data": {
      "text/plain": [
       "0.79"
      ]
     },
     "execution_count": 14,
     "metadata": {},
     "output_type": "execute_result"
    }
   ],
   "source": [
    "from sklearn.metrics import accuracy_score, classification_report\n",
    "accuracy_score(_,predicted  )"
   ]
  },
  {
   "cell_type": "code",
   "execution_count": 15,
   "metadata": {},
   "outputs": [
    {
     "data": {
      "text/plain": [
       "'             precision    recall  f1-score   support\\n\\n          0       0.84      0.81      0.82      1000\\n          1       0.87      0.92      0.89      1000\\n          2       0.75      0.67      0.71      1000\\n          3       0.67      0.56      0.61      1000\\n          4       0.72      0.83      0.77      1000\\n          5       0.68      0.72      0.70      1000\\n          6       0.76      0.89      0.82      1000\\n          7       0.90      0.79      0.84      1000\\n          8       0.93      0.83      0.87      1000\\n          9       0.81      0.90      0.85      1000\\n\\navg / total       0.79      0.79      0.79     10000\\n'"
      ]
     },
     "execution_count": 15,
     "metadata": {},
     "output_type": "execute_result"
    }
   ],
   "source": [
    "classification_report(_,predicted)"
   ]
  },
  {
   "cell_type": "code",
   "execution_count": 16,
   "metadata": {},
   "outputs": [],
   "source": [
    "with open(\"exercise_2_output.txt\", \"w\") as f:\n",
    "    [f.write(\"{}\\n\".format(p)) for p in predicted]"
   ]
  }
 ],
 "metadata": {
  "kernelspec": {
   "display_name": "Python 3",
   "language": "python",
   "name": "python3"
  },
  "language_info": {
   "codemirror_mode": {
    "name": "ipython",
    "version": 3
   },
   "file_extension": ".py",
   "mimetype": "text/x-python",
   "name": "python",
   "nbconvert_exporter": "python",
   "pygments_lexer": "ipython3",
   "version": "3.6.6"
  }
 },
 "nbformat": 4,
 "nbformat_minor": 2
}
